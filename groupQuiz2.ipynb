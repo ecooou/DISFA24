{
 "cells": [
  {
   "cell_type": "code",
   "execution_count": 1,
   "metadata": {},
   "outputs": [],
   "source": [
    "import random"
   ]
  },
  {
   "cell_type": "code",
   "execution_count": 2,
   "metadata": {},
   "outputs": [
    {
     "name": "stdout",
     "output_type": "stream",
     "text": [
      "echo he\n"
     ]
    }
   ],
   "source": [
    "name = input(\"What's your name and surname?\")\n",
    "print(name)\n",
    "\n"
   ]
  },
  {
   "cell_type": "code",
   "execution_count": 6,
   "metadata": {},
   "outputs": [
    {
     "name": "stdout",
     "output_type": "stream",
     "text": [
      "21\n",
      "you will be  26  years old in 5 years.\n"
     ]
    }
   ],
   "source": [
    "age = input(\"What's your age?\")\n",
    "print(age)\n",
    "agePlusFive = int(age) + 5\n",
    "print(\"you will be \", agePlusFive, \" years old in 5 years.\")"
   ]
  },
  {
   "cell_type": "code",
   "execution_count": 15,
   "metadata": {},
   "outputs": [
    {
     "name": "stdout",
     "output_type": "stream",
     "text": [
      "You listed 0 cat names.\n",
      "please enter more cat names\n"
     ]
    }
   ],
   "source": [
    "def concatenation():\n",
    "    try:\n",
    "        randomCats = random.sample(catList, 2)\n",
    "        cancatenatedCats = randomCats[0]+randomCats[1]\n",
    "        print(cancatenatedCats)\n",
    "    except:\n",
    "        print('please enter more cat names')\n",
    "\n",
    "catList = []\n",
    "catCount = 0\n",
    "while True:\n",
    "    catName = input(\"Enter a cat name or press enter to stop\")\n",
    "    if catName == '':\n",
    "        break\n",
    "    catList.append(catName)\n",
    "    catCount += 1\n",
    "print(\"You listed\", catCount, 'cat names.')\n",
    "concatenation()\n"
   ]
  },
  {
   "cell_type": "code",
   "execution_count": null,
   "metadata": {},
   "outputs": [],
   "source": []
  }
 ],
 "metadata": {
  "kernelspec": {
   "display_name": "Python 3",
   "language": "python",
   "name": "python3"
  },
  "language_info": {
   "codemirror_mode": {
    "name": "ipython",
    "version": 3
   },
   "file_extension": ".py",
   "mimetype": "text/x-python",
   "name": "python",
   "nbconvert_exporter": "python",
   "pygments_lexer": "ipython3",
   "version": "3.11.2"
  }
 },
 "nbformat": 4,
 "nbformat_minor": 2
}
